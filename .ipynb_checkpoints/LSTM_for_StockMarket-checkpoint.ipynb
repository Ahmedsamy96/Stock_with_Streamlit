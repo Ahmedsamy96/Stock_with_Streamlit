{
 "cells": [
  {
   "cell_type": "code",
   "execution_count": 5,
   "metadata": {},
   "outputs": [],
   "source": [
    "import streamlit as st\n",
    "import yfinance as finance\n",
    "\n",
    "import pandas as pd \n",
    "import numpy as np\n",
    "import matplotlib.pyplot as plt\n",
    "import pandas_datareader as data"
   ]
  },
  {
   "cell_type": "markdown",
   "metadata": {},
   "source": [
    "# Set the title name, sidebar header, and Subheading"
   ]
  },
  {
   "cell_type": "code",
   "execution_count": 7,
   "metadata": {},
   "outputs": [
    {
     "name": "stdout",
     "output_type": "stream",
     "text": [
      "(3020, 6)\n"
     ]
    },
    {
     "data": {
      "text/html": [
       "<div>\n",
       "<style scoped>\n",
       "    .dataframe tbody tr th:only-of-type {\n",
       "        vertical-align: middle;\n",
       "    }\n",
       "\n",
       "    .dataframe tbody tr th {\n",
       "        vertical-align: top;\n",
       "    }\n",
       "\n",
       "    .dataframe thead th {\n",
       "        text-align: right;\n",
       "    }\n",
       "</style>\n",
       "<table border=\"1\" class=\"dataframe\">\n",
       "  <thead>\n",
       "    <tr style=\"text-align: right;\">\n",
       "      <th></th>\n",
       "      <th>High</th>\n",
       "      <th>Low</th>\n",
       "      <th>Open</th>\n",
       "      <th>Close</th>\n",
       "      <th>Volume</th>\n",
       "      <th>Adj Close</th>\n",
       "    </tr>\n",
       "    <tr>\n",
       "      <th>Date</th>\n",
       "      <th></th>\n",
       "      <th></th>\n",
       "      <th></th>\n",
       "      <th></th>\n",
       "      <th></th>\n",
       "      <th></th>\n",
       "    </tr>\n",
       "  </thead>\n",
       "  <tbody>\n",
       "    <tr>\n",
       "      <th>2009-12-14</th>\n",
       "      <td>7.051071</td>\n",
       "      <td>6.877143</td>\n",
       "      <td>6.977500</td>\n",
       "      <td>7.035000</td>\n",
       "      <td>495790400.0</td>\n",
       "      <td>6.031564</td>\n",
       "    </tr>\n",
       "    <tr>\n",
       "      <th>2009-12-15</th>\n",
       "      <td>7.053929</td>\n",
       "      <td>6.902500</td>\n",
       "      <td>6.993929</td>\n",
       "      <td>6.934643</td>\n",
       "      <td>419459600.0</td>\n",
       "      <td>5.945520</td>\n",
       "    </tr>\n",
       "    <tr>\n",
       "      <th>2009-12-16</th>\n",
       "      <td>7.017857</td>\n",
       "      <td>6.948214</td>\n",
       "      <td>6.967857</td>\n",
       "      <td>6.965357</td>\n",
       "      <td>352984800.0</td>\n",
       "      <td>5.971853</td>\n",
       "    </tr>\n",
       "    <tr>\n",
       "      <th>2009-12-17</th>\n",
       "      <td>6.964286</td>\n",
       "      <td>6.821429</td>\n",
       "      <td>6.937857</td>\n",
       "      <td>6.852143</td>\n",
       "      <td>388838800.0</td>\n",
       "      <td>5.874788</td>\n",
       "    </tr>\n",
       "    <tr>\n",
       "      <th>2009-12-18</th>\n",
       "      <td>6.982143</td>\n",
       "      <td>6.878571</td>\n",
       "      <td>6.898929</td>\n",
       "      <td>6.979643</td>\n",
       "      <td>608770400.0</td>\n",
       "      <td>5.984103</td>\n",
       "    </tr>\n",
       "  </tbody>\n",
       "</table>\n",
       "</div>"
      ],
      "text/plain": [
       "                High       Low      Open     Close       Volume  Adj Close\n",
       "Date                                                                      \n",
       "2009-12-14  7.051071  6.877143  6.977500  7.035000  495790400.0   6.031564\n",
       "2009-12-15  7.053929  6.902500  6.993929  6.934643  419459600.0   5.945520\n",
       "2009-12-16  7.017857  6.948214  6.967857  6.965357  352984800.0   5.971853\n",
       "2009-12-17  6.964286  6.821429  6.937857  6.852143  388838800.0   5.874788\n",
       "2009-12-18  6.982143  6.878571  6.898929  6.979643  608770400.0   5.984103"
      ]
     },
     "execution_count": 7,
     "metadata": {},
     "output_type": "execute_result"
    }
   ],
   "source": [
    "start = '2009-12-12'\n",
    "end = '2021-12-12'\n",
    "\n",
    "df = data.DataReader('AApL','yahoo',start,end)\n",
    "print(df.shape)\n",
    "df.head()"
   ]
  },
  {
   "cell_type": "code",
   "execution_count": 8,
   "metadata": {},
   "outputs": [
    {
     "data": {
      "text/html": [
       "<div>\n",
       "<style scoped>\n",
       "    .dataframe tbody tr th:only-of-type {\n",
       "        vertical-align: middle;\n",
       "    }\n",
       "\n",
       "    .dataframe tbody tr th {\n",
       "        vertical-align: top;\n",
       "    }\n",
       "\n",
       "    .dataframe thead th {\n",
       "        text-align: right;\n",
       "    }\n",
       "</style>\n",
       "<table border=\"1\" class=\"dataframe\">\n",
       "  <thead>\n",
       "    <tr style=\"text-align: right;\">\n",
       "      <th></th>\n",
       "      <th>High</th>\n",
       "      <th>Low</th>\n",
       "      <th>Open</th>\n",
       "      <th>Close</th>\n",
       "      <th>Volume</th>\n",
       "      <th>Adj Close</th>\n",
       "    </tr>\n",
       "    <tr>\n",
       "      <th>Date</th>\n",
       "      <th></th>\n",
       "      <th></th>\n",
       "      <th></th>\n",
       "      <th></th>\n",
       "      <th></th>\n",
       "      <th></th>\n",
       "    </tr>\n",
       "  </thead>\n",
       "  <tbody>\n",
       "    <tr>\n",
       "      <th>2021-12-06</th>\n",
       "      <td>167.880005</td>\n",
       "      <td>164.279999</td>\n",
       "      <td>164.289993</td>\n",
       "      <td>165.320007</td>\n",
       "      <td>107497000.0</td>\n",
       "      <td>165.320007</td>\n",
       "    </tr>\n",
       "    <tr>\n",
       "      <th>2021-12-07</th>\n",
       "      <td>171.580002</td>\n",
       "      <td>168.339996</td>\n",
       "      <td>169.080002</td>\n",
       "      <td>171.179993</td>\n",
       "      <td>120405400.0</td>\n",
       "      <td>171.179993</td>\n",
       "    </tr>\n",
       "    <tr>\n",
       "      <th>2021-12-08</th>\n",
       "      <td>175.960007</td>\n",
       "      <td>170.699997</td>\n",
       "      <td>172.130005</td>\n",
       "      <td>175.080002</td>\n",
       "      <td>116998900.0</td>\n",
       "      <td>175.080002</td>\n",
       "    </tr>\n",
       "    <tr>\n",
       "      <th>2021-12-09</th>\n",
       "      <td>176.750000</td>\n",
       "      <td>173.919998</td>\n",
       "      <td>174.910004</td>\n",
       "      <td>174.559998</td>\n",
       "      <td>108923700.0</td>\n",
       "      <td>174.559998</td>\n",
       "    </tr>\n",
       "    <tr>\n",
       "      <th>2021-12-10</th>\n",
       "      <td>179.630005</td>\n",
       "      <td>174.690002</td>\n",
       "      <td>175.210007</td>\n",
       "      <td>179.449997</td>\n",
       "      <td>115228100.0</td>\n",
       "      <td>179.449997</td>\n",
       "    </tr>\n",
       "  </tbody>\n",
       "</table>\n",
       "</div>"
      ],
      "text/plain": [
       "                  High         Low        Open       Close       Volume  \\\n",
       "Date                                                                      \n",
       "2021-12-06  167.880005  164.279999  164.289993  165.320007  107497000.0   \n",
       "2021-12-07  171.580002  168.339996  169.080002  171.179993  120405400.0   \n",
       "2021-12-08  175.960007  170.699997  172.130005  175.080002  116998900.0   \n",
       "2021-12-09  176.750000  173.919998  174.910004  174.559998  108923700.0   \n",
       "2021-12-10  179.630005  174.690002  175.210007  179.449997  115228100.0   \n",
       "\n",
       "             Adj Close  \n",
       "Date                    \n",
       "2021-12-06  165.320007  \n",
       "2021-12-07  171.179993  \n",
       "2021-12-08  175.080002  \n",
       "2021-12-09  174.559998  \n",
       "2021-12-10  179.449997  "
      ]
     },
     "execution_count": 8,
     "metadata": {},
     "output_type": "execute_result"
    }
   ],
   "source": [
    "df.tail()"
   ]
  },
  {
   "cell_type": "code",
   "execution_count": 11,
   "metadata": {},
   "outputs": [
    {
     "data": {
      "text/html": [
       "<div>\n",
       "<style scoped>\n",
       "    .dataframe tbody tr th:only-of-type {\n",
       "        vertical-align: middle;\n",
       "    }\n",
       "\n",
       "    .dataframe tbody tr th {\n",
       "        vertical-align: top;\n",
       "    }\n",
       "\n",
       "    .dataframe thead th {\n",
       "        text-align: right;\n",
       "    }\n",
       "</style>\n",
       "<table border=\"1\" class=\"dataframe\">\n",
       "  <thead>\n",
       "    <tr style=\"text-align: right;\">\n",
       "      <th></th>\n",
       "      <th>Date</th>\n",
       "      <th>High</th>\n",
       "      <th>Low</th>\n",
       "      <th>Open</th>\n",
       "      <th>Close</th>\n",
       "      <th>Volume</th>\n",
       "      <th>Adj Close</th>\n",
       "    </tr>\n",
       "  </thead>\n",
       "  <tbody>\n",
       "    <tr>\n",
       "      <th>0</th>\n",
       "      <td>2009-12-14</td>\n",
       "      <td>7.051071</td>\n",
       "      <td>6.877143</td>\n",
       "      <td>6.977500</td>\n",
       "      <td>7.035000</td>\n",
       "      <td>495790400.0</td>\n",
       "      <td>6.031564</td>\n",
       "    </tr>\n",
       "    <tr>\n",
       "      <th>1</th>\n",
       "      <td>2009-12-15</td>\n",
       "      <td>7.053929</td>\n",
       "      <td>6.902500</td>\n",
       "      <td>6.993929</td>\n",
       "      <td>6.934643</td>\n",
       "      <td>419459600.0</td>\n",
       "      <td>5.945520</td>\n",
       "    </tr>\n",
       "    <tr>\n",
       "      <th>2</th>\n",
       "      <td>2009-12-16</td>\n",
       "      <td>7.017857</td>\n",
       "      <td>6.948214</td>\n",
       "      <td>6.967857</td>\n",
       "      <td>6.965357</td>\n",
       "      <td>352984800.0</td>\n",
       "      <td>5.971853</td>\n",
       "    </tr>\n",
       "    <tr>\n",
       "      <th>3</th>\n",
       "      <td>2009-12-17</td>\n",
       "      <td>6.964286</td>\n",
       "      <td>6.821429</td>\n",
       "      <td>6.937857</td>\n",
       "      <td>6.852143</td>\n",
       "      <td>388838800.0</td>\n",
       "      <td>5.874788</td>\n",
       "    </tr>\n",
       "    <tr>\n",
       "      <th>4</th>\n",
       "      <td>2009-12-18</td>\n",
       "      <td>6.982143</td>\n",
       "      <td>6.878571</td>\n",
       "      <td>6.898929</td>\n",
       "      <td>6.979643</td>\n",
       "      <td>608770400.0</td>\n",
       "      <td>5.984103</td>\n",
       "    </tr>\n",
       "  </tbody>\n",
       "</table>\n",
       "</div>"
      ],
      "text/plain": [
       "        Date      High       Low      Open     Close       Volume  Adj Close\n",
       "0 2009-12-14  7.051071  6.877143  6.977500  7.035000  495790400.0   6.031564\n",
       "1 2009-12-15  7.053929  6.902500  6.993929  6.934643  419459600.0   5.945520\n",
       "2 2009-12-16  7.017857  6.948214  6.967857  6.965357  352984800.0   5.971853\n",
       "3 2009-12-17  6.964286  6.821429  6.937857  6.852143  388838800.0   5.874788\n",
       "4 2009-12-18  6.982143  6.878571  6.898929  6.979643  608770400.0   5.984103"
      ]
     },
     "execution_count": 11,
     "metadata": {},
     "output_type": "execute_result"
    }
   ],
   "source": [
    "df = df.reset_index()\n",
    "df.head()"
   ]
  },
  {
   "cell_type": "code",
   "execution_count": 13,
   "metadata": {},
   "outputs": [
    {
     "data": {
      "text/html": [
       "<div>\n",
       "<style scoped>\n",
       "    .dataframe tbody tr th:only-of-type {\n",
       "        vertical-align: middle;\n",
       "    }\n",
       "\n",
       "    .dataframe tbody tr th {\n",
       "        vertical-align: top;\n",
       "    }\n",
       "\n",
       "    .dataframe thead th {\n",
       "        text-align: right;\n",
       "    }\n",
       "</style>\n",
       "<table border=\"1\" class=\"dataframe\">\n",
       "  <thead>\n",
       "    <tr style=\"text-align: right;\">\n",
       "      <th></th>\n",
       "      <th>High</th>\n",
       "      <th>Low</th>\n",
       "      <th>Open</th>\n",
       "      <th>Close</th>\n",
       "      <th>Volume</th>\n",
       "    </tr>\n",
       "  </thead>\n",
       "  <tbody>\n",
       "    <tr>\n",
       "      <th>0</th>\n",
       "      <td>7.051071</td>\n",
       "      <td>6.877143</td>\n",
       "      <td>6.977500</td>\n",
       "      <td>7.035000</td>\n",
       "      <td>495790400.0</td>\n",
       "    </tr>\n",
       "    <tr>\n",
       "      <th>1</th>\n",
       "      <td>7.053929</td>\n",
       "      <td>6.902500</td>\n",
       "      <td>6.993929</td>\n",
       "      <td>6.934643</td>\n",
       "      <td>419459600.0</td>\n",
       "    </tr>\n",
       "    <tr>\n",
       "      <th>2</th>\n",
       "      <td>7.017857</td>\n",
       "      <td>6.948214</td>\n",
       "      <td>6.967857</td>\n",
       "      <td>6.965357</td>\n",
       "      <td>352984800.0</td>\n",
       "    </tr>\n",
       "    <tr>\n",
       "      <th>3</th>\n",
       "      <td>6.964286</td>\n",
       "      <td>6.821429</td>\n",
       "      <td>6.937857</td>\n",
       "      <td>6.852143</td>\n",
       "      <td>388838800.0</td>\n",
       "    </tr>\n",
       "    <tr>\n",
       "      <th>4</th>\n",
       "      <td>6.982143</td>\n",
       "      <td>6.878571</td>\n",
       "      <td>6.898929</td>\n",
       "      <td>6.979643</td>\n",
       "      <td>608770400.0</td>\n",
       "    </tr>\n",
       "  </tbody>\n",
       "</table>\n",
       "</div>"
      ],
      "text/plain": [
       "       High       Low      Open     Close       Volume\n",
       "0  7.051071  6.877143  6.977500  7.035000  495790400.0\n",
       "1  7.053929  6.902500  6.993929  6.934643  419459600.0\n",
       "2  7.017857  6.948214  6.967857  6.965357  352984800.0\n",
       "3  6.964286  6.821429  6.937857  6.852143  388838800.0\n",
       "4  6.982143  6.878571  6.898929  6.979643  608770400.0"
      ]
     },
     "execution_count": 13,
     "metadata": {},
     "output_type": "execute_result"
    }
   ],
   "source": [
    "df = df.drop(['Date','Adj Close'],axis=1)\n",
    "df.head()"
   ]
  },
  {
   "cell_type": "code",
   "execution_count": 14,
   "metadata": {},
   "outputs": [
    {
     "data": {
      "text/plain": [
       "[<matplotlib.lines.Line2D at 0x1b28b42fb80>]"
      ]
     },
     "execution_count": 14,
     "metadata": {},
     "output_type": "execute_result"
    },
    {
     "data": {
      "image/png": "[encoded data removed]",
      "text/plain": [
       "<Figure size 432x288 with 1 Axes>"
      ]
     },
     "metadata": {
      "needs_background": "light"
     },
     "output_type": "display_data"
    }
   ],
   "source": [
    "plt.plot(df['Close'])"
   ]
  },
  {
   "cell_type": "code",
   "execution_count": 23,
   "metadata": {},
   "outputs": [
    {
     "data": {
      "text/plain": [
       "0              NaN\n",
       "1              NaN\n",
       "2              NaN\n",
       "3              NaN\n",
       "4              NaN\n",
       "           ...    \n",
       "3015    147.697922\n",
       "3016    147.748404\n",
       "3017    147.810994\n",
       "3018    147.887336\n",
       "3019    147.979058\n",
       "Name: Close, Length: 3020, dtype: float64"
      ]
     },
     "execution_count": 23,
     "metadata": {},
     "output_type": "execute_result"
    }
   ],
   "source": [
    "ma100 = df.Close.rolling(100, win_type ='triang').mean()\n",
    "ma100"
   ]
  },
  {
   "cell_type": "code",
   "execution_count": 24,
   "metadata": {},
   "outputs": [
    {
     "data": {
      "text/plain": [
       "[<matplotlib.lines.Line2D at 0x1b28e85f880>]"
      ]
     },
     "execution_count": 24,
     "metadata": {},
     "output_type": "execute_result"
    },
    {
     "data": {
      "image/png": "[encoded data removed]",
      "text/plain": [
       "<Figure size 864x432 with 1 Axes>"
      ]
     },
     "metadata": {
      "needs_background": "light"
     },
     "output_type": "display_data"
    }
   ],
   "source": [
    "plt.figure(figsize=(12,6))\n",
    "plt.plot(df['Close'])\n",
    "plt.plot(ma100,'r')"
   ]
  },
  {
   "cell_type": "code",
   "execution_count": 25,
   "metadata": {},
   "outputs": [
    {
     "data": {
      "text/plain": [
       "0              NaN\n",
       "1              NaN\n",
       "2              NaN\n",
       "3              NaN\n",
       "4              NaN\n",
       "           ...    \n",
       "3015    139.696775\n",
       "3016    139.900483\n",
       "3017    140.105181\n",
       "3018    140.310817\n",
       "3019    140.517112\n",
       "Name: Close, Length: 3020, dtype: float64"
      ]
     },
     "execution_count": 25,
     "metadata": {},
     "output_type": "execute_result"
    }
   ],
   "source": [
    "ma200 = df.Close.rolling(200, win_type ='triang').mean()\n",
    "ma200"
   ]
  },
  {
   "cell_type": "code",
   "execution_count": 26,
   "metadata": {},
   "outputs": [
    {
     "data": {
      "text/plain": [
       "[<matplotlib.lines.Line2D at 0x1b28e702b50>]"
      ]
     },
     "execution_count": 26,
     "metadata": {},
     "output_type": "execute_result"
    },
    {
     "data": {
      "image/png": "[encoded data removed]",
      "text/plain": [
       "<Figure size 864x432 with 1 Axes>"
      ]
     },
     "metadata": {
      "needs_background": "light"
     },
     "output_type": "display_data"
    }
   ],
   "source": [
    "plt.figure(figsize=(12,6))\n",
    "plt.plot(df['Close'])\n",
    "plt.plot(ma100,'r')\n",
    "plt.plot(ma200,'g')"
   ]
  },
  {
   "cell_type": "markdown",
   "metadata": {},
   "source": [
    "# Spliting data train and test"
   ]
  },
  {
   "cell_type": "code",
   "execution_count": 27,
   "metadata": {},
   "outputs": [
    {
     "name": "stdout",
     "output_type": "stream",
     "text": [
      "(2114, 1)\n",
      "(906, 1)\n"
     ]
    }
   ],
   "source": [
    "from sklearn.model_selection import train_test_split\n",
    "\n",
    "train = pd.DataFrame(df['Close'][0:int(len(df)*0.70)])\n",
    "test = pd.DataFrame(df['Close'][int(len(df)*0.70):])\n",
    "print(train.shape)\n",
    "print(test.shape)"
   ]
  },
  {
   "cell_type": "code",
   "execution_count": 28,
   "metadata": {},
   "outputs": [
    {
     "data": {
      "text/html": [
       "<div>\n",
       "<style scoped>\n",
       "    .dataframe tbody tr th:only-of-type {\n",
       "        vertical-align: middle;\n",
       "    }\n",
       "\n",
       "    .dataframe tbody tr th {\n",
       "        vertical-align: top;\n",
       "    }\n",
       "\n",
       "    .dataframe thead th {\n",
       "        text-align: right;\n",
       "    }\n",
       "</style>\n",
       "<table border=\"1\" class=\"dataframe\">\n",
       "  <thead>\n",
       "    <tr style=\"text-align: right;\">\n",
       "      <th></th>\n",
       "      <th>Close</th>\n",
       "    </tr>\n",
       "  </thead>\n",
       "  <tbody>\n",
       "    <tr>\n",
       "      <th>2114</th>\n",
       "      <td>46.840000</td>\n",
       "    </tr>\n",
       "    <tr>\n",
       "      <th>2115</th>\n",
       "      <td>47.509998</td>\n",
       "    </tr>\n",
       "    <tr>\n",
       "      <th>2116</th>\n",
       "      <td>47.147499</td>\n",
       "    </tr>\n",
       "    <tr>\n",
       "      <th>2117</th>\n",
       "      <td>47.037498</td>\n",
       "    </tr>\n",
       "    <tr>\n",
       "      <th>2118</th>\n",
       "      <td>46.610001</td>\n",
       "    </tr>\n",
       "  </tbody>\n",
       "</table>\n",
       "</div>"
      ],
      "text/plain": [
       "          Close\n",
       "2114  46.840000\n",
       "2115  47.509998\n",
       "2116  47.147499\n",
       "2117  47.037498\n",
       "2118  46.610001"
      ]
     },
     "execution_count": 28,
     "metadata": {},
     "output_type": "execute_result"
    }
   ],
   "source": [
    "test.head()"
   ]
  },
  {
   "cell_type": "code",
   "execution_count": 31,
   "metadata": {},
   "outputs": [],
   "source": [
    "from sklearn.preprocessing import MinMaxScaler\n",
    "\n",
    "scaler = MinMaxScaler(feature_range=(0,1))\n",
    "scaled_train = scaler.fit_transform(train)"
   ]
  },
  {
   "cell_type": "markdown",
   "metadata": {},
   "source": [
    "##### To understand the methodology of how we predict next price of the stream of ( Close data ) we take in consideration for example last ten prices in Close and depending on them we predict next number in consequece ,  In the next iteration we forget first used number of the ten numbers and insert to them the last predicted number to make our new prediction.\n",
    "\n",
    "First predict : 25 63 87 96 54 23 58 44 55 65 >> 44      ->     second predict : 63 87 96 54 23 58 44 55 65 44  >>  33"
   ]
  },
  {
   "cell_type": "code",
   "execution_count": 34,
   "metadata": {},
   "outputs": [],
   "source": [
    "x_train = []\n",
    "y_train = []\n",
    "\n",
    "for i in range(100 , scaled_train.shape[0]):\n",
    "    x_train.append(scaled_train[i-100 :i])\n",
    "    y_train.append(scaled_train[i,0])\n",
    "    \n",
    "x_train , y_train = np.array(x_train) , np.array(y_train)\n"
   ]
  },
  {
   "cell_type": "code",
   "execution_count": null,
   "metadata": {},
   "outputs": [],
   "source": [
    "from keras.layers import Dense , Dropout , LSTM\n",
    "from keras.models import Sequential\n",
    "\n",
    "model = Sequential()\n",
    "model.add(LSTM(units=50 , activation ='relu' , return_sequences=True , input_shape = (x_train.shape[1] , 1)))\n",
    "model.add(Dropout(0.2))\n",
    "\n",
    "model.add(LSTM(units=50 , activation ='relu' , return_sequences=True , input_shape = (x_train.shape[1] , 1)))\n",
    "model.add(Dropout(0.2))\n",
    "\n",
    "model.add(LSTM(units=50 , activation ='relu' , return_sequences=True , input_shape = (x_train.shape[1] , 1)))\n",
    "model.add(Dropout(0.2))\n"
   ]
  },
  {
   "cell_type": "code",
   "execution_count": null,
   "metadata": {},
   "outputs": [],
   "source": []
  },
  {
   "cell_type": "code",
   "execution_count": null,
   "metadata": {},
   "outputs": [],
   "source": []
  },
  {
   "cell_type": "code",
   "execution_count": null,
   "metadata": {},
   "outputs": [],
   "source": []
  },
  {
   "cell_type": "code",
   "execution_count": null,
   "metadata": {},
   "outputs": [],
   "source": []
  },
  {
   "cell_type": "code",
   "execution_count": null,
   "metadata": {},
   "outputs": [],
   "source": []
  },
  {
   "cell_type": "code",
   "execution_count": null,
   "metadata": {},
   "outputs": [],
   "source": []
  },
  {
   "cell_type": "code",
   "execution_count": 3,
   "metadata": {},
   "outputs": [
    {
     "name": "stderr",
     "output_type": "stream",
     "text": [
      "2022-01-26 21:39:27.582 NumExpr defaulting to 4 threads.\n"
     ]
    },
    {
     "name": "stdout",
     "output_type": "stream",
     "text": [
      "[*********************100%***********************]  1 of 1 completed\n",
      "[*********************100%***********************]  1 of 1 completed\n"
     ]
    },
    {
     "data": {
      "text/plain": [
       "DeltaGenerator(_root_container=0, _provided_cursor=None, _parent=None, _block_type=None, _form_data=None)"
      ]
     },
     "execution_count": 3,
     "metadata": {},
     "output_type": "execute_result"
    }
   ],
   "source": [
    "def get_ticker(name):\n",
    "    company = finance.Ticker(name)  # google\n",
    "    return company\n",
    " \n",
    " \n",
    "# Project Details\n",
    "st.title(\"Build and Deploy Stock Market App Using Streamlit\")\n",
    "st.header(\"A Basic Data Science Web Application\")\n",
    "st.sidebar.header(\"AhmedSamy's \\n StockWeb\")\n",
    " \n",
    "company1 = get_ticker(\"GOOGL\")\n",
    "company2 = get_ticker(\"MSFT\")\n",
    " \n",
    "# fetches the data: Open, Close, High, Low and Volume\n",
    "google = finance.download(\"GOOGL\", start=\"2021-10-01\", end=\"2021-10-01\")\n",
    "microsoft = finance.download(\"MSFT\", start=\"2021-10-01\", end=\"2021-10-01\")\n",
    " \n",
    "# Valid periods: 1d,5d,1mo,3mo,6mo,1y,2y,5y,10y,ytd,max\n",
    "data1 = company1.history(period=\"3mo\")\n",
    "data2 = company2.history(period=\"3mo\")\n",
    " \n",
    "# markdown syntax\n",
    "st.write(\"\"\"\n",
    "### Google\n",
    "\"\"\")\n",
    " \n",
    "# detailed summary on Google\n",
    "st.write(company1.info['longBusinessSummary']) \n",
    "st.write(google)\n",
    " \n",
    "# plots the graph\n",
    "st.line_chart(data1.values) \n",
    " \n",
    "st.write(\"\"\"\n",
    "### Microsoft\n",
    "\"\"\")\n",
    "st.write(company2.info['longBusinessSummary'], \"\\n\", microsoft)\n",
    "st.line_chart(data2.values)"
   ]
  },
  {
   "cell_type": "code",
   "execution_count": null,
   "metadata": {},
   "outputs": [],
   "source": []
  }
 ],
 "metadata": {
  "kernelspec": {
   "display_name": "Python 3",
   "language": "python",
   "name": "python3"
  },
  "language_info": {
   "codemirror_mode": {
    "name": "ipython",
    "version": 3
   },
   "file_extension": ".py",
   "mimetype": "text/x-python",
   "name": "python",
   "nbconvert_exporter": "python",
   "pygments_lexer": "ipython3",
   "version": "3.8.5"
  }
 },
 "nbformat": 4,
 "nbformat_minor": 4
}
